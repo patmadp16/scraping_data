{
  "nbformat": 4,
  "nbformat_minor": 0,
  "metadata": {
    "colab": {
      "name": "WebScrapping_01.ipynb",
      "provenance": [],
      "collapsed_sections": [],
      "authorship_tag": "ABX9TyNysaim4OwIdr8+6o+vKkGM",
      "include_colab_link": true
    },
    "kernelspec": {
      "name": "python3",
      "display_name": "Python 3"
    },
    "language_info": {
      "name": "python"
    }
  },
  "cells": [
    {
      "cell_type": "markdown",
      "metadata": {
        "id": "view-in-github",
        "colab_type": "text"
      },
      "source": [
        "<a href=\"https://colab.research.google.com/github/patmadp16/scraping_data/blob/main/WebScrapping_01.ipynb\" target=\"_parent\"><img src=\"https://colab.research.google.com/assets/colab-badge.svg\" alt=\"Open In Colab\"/></a>"
      ]
    },
    {
      "cell_type": "code",
      "execution_count": null,
      "metadata": {
        "id": "ALKqaK9LNWpU"
      },
      "outputs": [],
      "source": [
        "#mengimport library\n",
        "import requests\n",
        "from bs4 import BeautifulSoup\n",
        "import pandas as pd"
      ]
    },
    {
      "cell_type": "code",
      "source": [
        "#membuat variabel list untuk menyimpan data scrapping\n",
        "Judul=[]\n",
        "Tahun=[]\n",
        "Rating=[]"
      ],
      "metadata": {
        "id": "yUSX6NbMNczK"
      },
      "execution_count": null,
      "outputs": []
    },
    {
      "cell_type": "code",
      "source": [
        "#membuka url dan melakukan scrapping dari url \n",
        "url = \"https://www.imdb.com/chart/top/?ref_=nv_mv_250\"\n",
        "req = requests.get(url).content"
      ],
      "metadata": {
        "id": "I-h-RRy9Nv2I"
      },
      "execution_count": null,
      "outputs": []
    },
    {
      "cell_type": "code",
      "source": [
        "#menggunakan fungsi find dan find_all dari library beautifulSoup untuk proses ekstraksi data dari elemen\n",
        "soup = BeautifulSoup (req, \"html.parser\")\n",
        "list = soup.find(\"tbody\", {\"class\":\"lister-list\"}).find_all(\"tr\")\n",
        "x = 1\n",
        "for i in list:\n",
        "    mtitle = i.find(\"td\",{\"class\":\"titleColumn\"})\n",
        "    myear = i.find(\"span\",{\"class\":\"secondaryInfo\"})\n",
        "    mrating = i.find(\"td\",{\"class\":\"ratingColumn\"})\n",
        "    Judul.append(mtitle.text) #gunakan append untuk menyimpan kedalam variabel list yang telah dibuat sebelumnya\n",
        "    Tahun.append(myear.text)\n",
        "    Rating.append(mrating.text)"
      ],
      "metadata": {
        "id": "ebTcVKTPSYIC"
      },
      "execution_count": null,
      "outputs": []
    },
    {
      "cell_type": "code",
      "source": [
        "#membuat data frame yang memiliki haeder Judul Video, Tahun Rating\n",
        "data = pd.DataFrame({'Judul Video' : Judul, 'Tahun':Tahun,'Rating' :Rating})\n",
        "#menampilkan data yang telah diekstrak\n",
        "data"
      ],
      "metadata": {
        "colab": {
          "base_uri": "https://localhost:8080/",
          "height": 655
        },
        "id": "HYspAUBfSr0g",
        "outputId": "ddd52d7b-0a40-405b-9777-f20b12559952"
      },
      "execution_count": null,
      "outputs": [
        {
          "output_type": "execute_result",
          "data": {
            "text/html": [
              "\n",
              "  <div id=\"df-f440068e-6231-4122-911c-667e4a2b01cd\">\n",
              "    <div class=\"colab-df-container\">\n",
              "      <div>\n",
              "<style scoped>\n",
              "    .dataframe tbody tr th:only-of-type {\n",
              "        vertical-align: middle;\n",
              "    }\n",
              "\n",
              "    .dataframe tbody tr th {\n",
              "        vertical-align: top;\n",
              "    }\n",
              "\n",
              "    .dataframe thead th {\n",
              "        text-align: right;\n",
              "    }\n",
              "</style>\n",
              "<table border=\"1\" class=\"dataframe\">\n",
              "  <thead>\n",
              "    <tr style=\"text-align: right;\">\n",
              "      <th></th>\n",
              "      <th>Judul Video</th>\n",
              "      <th>Tahun</th>\n",
              "      <th>Rating</th>\n",
              "    </tr>\n",
              "  </thead>\n",
              "  <tbody>\n",
              "    <tr>\n",
              "      <th>0</th>\n",
              "      <td>\\n      1.\\n      The Shawshank Redemption\\n(1...</td>\n",
              "      <td>(1994)</td>\n",
              "      <td>\\n9.2\\n</td>\n",
              "    </tr>\n",
              "    <tr>\n",
              "      <th>1</th>\n",
              "      <td>\\n      2.\\n      The Godfather\\n(1972)\\n</td>\n",
              "      <td>(1972)</td>\n",
              "      <td>\\n9.1\\n</td>\n",
              "    </tr>\n",
              "    <tr>\n",
              "      <th>2</th>\n",
              "      <td>\\n      3.\\n      The Godfather: Part II\\n(197...</td>\n",
              "      <td>(1974)</td>\n",
              "      <td>\\n9.0\\n</td>\n",
              "    </tr>\n",
              "    <tr>\n",
              "      <th>3</th>\n",
              "      <td>\\n      4.\\n      The Dark Knight\\n(2008)\\n</td>\n",
              "      <td>(2008)</td>\n",
              "      <td>\\n9.0\\n</td>\n",
              "    </tr>\n",
              "    <tr>\n",
              "      <th>4</th>\n",
              "      <td>\\n      5.\\n      12 Angry Men\\n(1957)\\n</td>\n",
              "      <td>(1957)</td>\n",
              "      <td>\\n8.9\\n</td>\n",
              "    </tr>\n",
              "    <tr>\n",
              "      <th>...</th>\n",
              "      <td>...</td>\n",
              "      <td>...</td>\n",
              "      <td>...</td>\n",
              "    </tr>\n",
              "    <tr>\n",
              "      <th>245</th>\n",
              "      <td>\\n      246.\\n      Neon Genesis Evangelion: T...</td>\n",
              "      <td>(1997)</td>\n",
              "      <td>\\n8.0\\n</td>\n",
              "    </tr>\n",
              "    <tr>\n",
              "      <th>246</th>\n",
              "      <td>\\n      247.\\n      Nights of Cabiria\\n(1957)\\n</td>\n",
              "      <td>(1957)</td>\n",
              "      <td>\\n8.0\\n</td>\n",
              "    </tr>\n",
              "    <tr>\n",
              "      <th>247</th>\n",
              "      <td>\\n      248.\\n      Andrei Rublev\\n(1966)\\n</td>\n",
              "      <td>(1966)</td>\n",
              "      <td>\\n8.0\\n</td>\n",
              "    </tr>\n",
              "    <tr>\n",
              "      <th>248</th>\n",
              "      <td>\\n      249.\\n      Drishyam\\n(2013)\\n</td>\n",
              "      <td>(2013)</td>\n",
              "      <td>\\n8.0\\n</td>\n",
              "    </tr>\n",
              "    <tr>\n",
              "      <th>249</th>\n",
              "      <td>\\n      250.\\n      The Princess Bride\\n(1987)\\n</td>\n",
              "      <td>(1987)</td>\n",
              "      <td>\\n8.0\\n</td>\n",
              "    </tr>\n",
              "  </tbody>\n",
              "</table>\n",
              "<p>250 rows × 3 columns</p>\n",
              "</div>\n",
              "      <button class=\"colab-df-convert\" onclick=\"convertToInteractive('df-f440068e-6231-4122-911c-667e4a2b01cd')\"\n",
              "              title=\"Convert this dataframe to an interactive table.\"\n",
              "              style=\"display:none;\">\n",
              "        \n",
              "  <svg xmlns=\"http://www.w3.org/2000/svg\" height=\"24px\"viewBox=\"0 0 24 24\"\n",
              "       width=\"24px\">\n",
              "    <path d=\"M0 0h24v24H0V0z\" fill=\"none\"/>\n",
              "    <path d=\"M18.56 5.44l.94 2.06.94-2.06 2.06-.94-2.06-.94-.94-2.06-.94 2.06-2.06.94zm-11 1L8.5 8.5l.94-2.06 2.06-.94-2.06-.94L8.5 2.5l-.94 2.06-2.06.94zm10 10l.94 2.06.94-2.06 2.06-.94-2.06-.94-.94-2.06-.94 2.06-2.06.94z\"/><path d=\"M17.41 7.96l-1.37-1.37c-.4-.4-.92-.59-1.43-.59-.52 0-1.04.2-1.43.59L10.3 9.45l-7.72 7.72c-.78.78-.78 2.05 0 2.83L4 21.41c.39.39.9.59 1.41.59.51 0 1.02-.2 1.41-.59l7.78-7.78 2.81-2.81c.8-.78.8-2.07 0-2.86zM5.41 20L4 18.59l7.72-7.72 1.47 1.35L5.41 20z\"/>\n",
              "  </svg>\n",
              "      </button>\n",
              "      \n",
              "  <style>\n",
              "    .colab-df-container {\n",
              "      display:flex;\n",
              "      flex-wrap:wrap;\n",
              "      gap: 12px;\n",
              "    }\n",
              "\n",
              "    .colab-df-convert {\n",
              "      background-color: #E8F0FE;\n",
              "      border: none;\n",
              "      border-radius: 50%;\n",
              "      cursor: pointer;\n",
              "      display: none;\n",
              "      fill: #1967D2;\n",
              "      height: 32px;\n",
              "      padding: 0 0 0 0;\n",
              "      width: 32px;\n",
              "    }\n",
              "\n",
              "    .colab-df-convert:hover {\n",
              "      background-color: #E2EBFA;\n",
              "      box-shadow: 0px 1px 2px rgba(60, 64, 67, 0.3), 0px 1px 3px 1px rgba(60, 64, 67, 0.15);\n",
              "      fill: #174EA6;\n",
              "    }\n",
              "\n",
              "    [theme=dark] .colab-df-convert {\n",
              "      background-color: #3B4455;\n",
              "      fill: #D2E3FC;\n",
              "    }\n",
              "\n",
              "    [theme=dark] .colab-df-convert:hover {\n",
              "      background-color: #434B5C;\n",
              "      box-shadow: 0px 1px 3px 1px rgba(0, 0, 0, 0.15);\n",
              "      filter: drop-shadow(0px 1px 2px rgba(0, 0, 0, 0.3));\n",
              "      fill: #FFFFFF;\n",
              "    }\n",
              "  </style>\n",
              "\n",
              "      <script>\n",
              "        const buttonEl =\n",
              "          document.querySelector('#df-f440068e-6231-4122-911c-667e4a2b01cd button.colab-df-convert');\n",
              "        buttonEl.style.display =\n",
              "          google.colab.kernel.accessAllowed ? 'block' : 'none';\n",
              "\n",
              "        async function convertToInteractive(key) {\n",
              "          const element = document.querySelector('#df-f440068e-6231-4122-911c-667e4a2b01cd');\n",
              "          const dataTable =\n",
              "            await google.colab.kernel.invokeFunction('convertToInteractive',\n",
              "                                                     [key], {});\n",
              "          if (!dataTable) return;\n",
              "\n",
              "          const docLinkHtml = 'Like what you see? Visit the ' +\n",
              "            '<a target=\"_blank\" href=https://colab.research.google.com/notebooks/data_table.ipynb>data table notebook</a>'\n",
              "            + ' to learn more about interactive tables.';\n",
              "          element.innerHTML = '';\n",
              "          dataTable['output_type'] = 'display_data';\n",
              "          await google.colab.output.renderOutput(dataTable, element);\n",
              "          const docLink = document.createElement('div');\n",
              "          docLink.innerHTML = docLinkHtml;\n",
              "          element.appendChild(docLink);\n",
              "        }\n",
              "      </script>\n",
              "    </div>\n",
              "  </div>\n",
              "  "
            ],
            "text/plain": [
              "                                           Judul Video   Tahun   Rating\n",
              "0    \\n      1.\\n      The Shawshank Redemption\\n(1...  (1994)  \\n9.2\\n\n",
              "1            \\n      2.\\n      The Godfather\\n(1972)\\n  (1972)  \\n9.1\\n\n",
              "2    \\n      3.\\n      The Godfather: Part II\\n(197...  (1974)  \\n9.0\\n\n",
              "3          \\n      4.\\n      The Dark Knight\\n(2008)\\n  (2008)  \\n9.0\\n\n",
              "4             \\n      5.\\n      12 Angry Men\\n(1957)\\n  (1957)  \\n8.9\\n\n",
              "..                                                 ...     ...      ...\n",
              "245  \\n      246.\\n      Neon Genesis Evangelion: T...  (1997)  \\n8.0\\n\n",
              "246    \\n      247.\\n      Nights of Cabiria\\n(1957)\\n  (1957)  \\n8.0\\n\n",
              "247        \\n      248.\\n      Andrei Rublev\\n(1966)\\n  (1966)  \\n8.0\\n\n",
              "248             \\n      249.\\n      Drishyam\\n(2013)\\n  (2013)  \\n8.0\\n\n",
              "249   \\n      250.\\n      The Princess Bride\\n(1987)\\n  (1987)  \\n8.0\\n\n",
              "\n",
              "[250 rows x 3 columns]"
            ]
          },
          "metadata": {},
          "execution_count": 11
        }
      ]
    },
    {
      "cell_type": "code",
      "source": [
        "#menyimpan file dengan nama ImbVideo\n",
        "data.to_csv(\"/content/drive/MyDrive/ImbVideo.csv\", index=False, encoding='UTF-8')"
      ],
      "metadata": {
        "id": "WjAv0h9axyD-"
      },
      "execution_count": null,
      "outputs": []
    }
  ]
}