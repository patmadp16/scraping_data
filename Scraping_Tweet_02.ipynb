{
  "nbformat": 4,
  "nbformat_minor": 0,
  "metadata": {
    "colab": {
      "name": "Scraping_Tweet_02.ipynb",
      "provenance": [],
      "collapsed_sections": [],
      "mount_file_id": "1S4YfAXy2Acg_YVuya6AJWghmbMz5bbuf",
      "authorship_tag": "ABX9TyN7gUdfckE+8ALWknf4H/CQ",
      "include_colab_link": true
    },
    "kernelspec": {
      "name": "python3",
      "display_name": "Python 3"
    },
    "language_info": {
      "name": "python"
    }
  },
  "cells": [
    {
      "cell_type": "markdown",
      "metadata": {
        "id": "view-in-github",
        "colab_type": "text"
      },
      "source": [
        "<a href=\"https://colab.research.google.com/github/patmadp16/scraping_data/blob/main/Scraping_Tweet_02.ipynb\" target=\"_parent\"><img src=\"https://colab.research.google.com/assets/colab-badge.svg\" alt=\"Open In Colab\"/></a>"
      ]
    },
    {
      "cell_type": "code",
      "execution_count": null,
      "metadata": {
        "colab": {
          "base_uri": "https://localhost:8080/"
        },
        "id": "xrnTKkhdl_oy",
        "outputId": "95697dda-38c5-4ba6-a02e-e65498bfa9c0"
      },
      "outputs": [
        {
          "output_type": "stream",
          "name": "stdout",
          "text": [
            "Requirement already satisfied: tweepy in /usr/local/lib/python3.7/dist-packages (3.10.0)\n",
            "Requirement already satisfied: requests-oauthlib>=0.7.0 in /usr/local/lib/python3.7/dist-packages (from tweepy) (1.3.0)\n",
            "Requirement already satisfied: requests[socks]>=2.11.1 in /usr/local/lib/python3.7/dist-packages (from tweepy) (2.23.0)\n",
            "Requirement already satisfied: six>=1.10.0 in /usr/local/lib/python3.7/dist-packages (from tweepy) (1.15.0)\n",
            "Requirement already satisfied: oauthlib>=3.0.0 in /usr/local/lib/python3.7/dist-packages (from requests-oauthlib>=0.7.0->tweepy) (3.1.1)\n",
            "Requirement already satisfied: urllib3!=1.25.0,!=1.25.1,<1.26,>=1.21.1 in /usr/local/lib/python3.7/dist-packages (from requests[socks]>=2.11.1->tweepy) (1.24.3)\n",
            "Requirement already satisfied: certifi>=2017.4.17 in /usr/local/lib/python3.7/dist-packages (from requests[socks]>=2.11.1->tweepy) (2021.10.8)\n",
            "Requirement already satisfied: chardet<4,>=3.0.2 in /usr/local/lib/python3.7/dist-packages (from requests[socks]>=2.11.1->tweepy) (3.0.4)\n",
            "Requirement already satisfied: idna<3,>=2.5 in /usr/local/lib/python3.7/dist-packages (from requests[socks]>=2.11.1->tweepy) (2.10)\n",
            "Requirement already satisfied: PySocks!=1.5.7,>=1.5.6 in /usr/local/lib/python3.7/dist-packages (from requests[socks]>=2.11.1->tweepy) (1.7.1)\n"
          ]
        }
      ],
      "source": [
        "!pip install tweepy"
      ]
    },
    {
      "cell_type": "code",
      "source": [
        "from tweepy.streaming import StreamListener\n",
        "from time import sleep\n",
        "import tweepy\n",
        "from tweepy import OAuthHandler\n",
        "from tweepy import Stream\n",
        "import datetime\n",
        "import json, time, sys\n",
        "import csv"
      ],
      "metadata": {
        "id": "rkIhZi66mBdN"
      },
      "execution_count": null,
      "outputs": []
    },
    {
      "cell_type": "code",
      "source": [
        "# Inisialisasi API Key yang terdaftar\n",
        "consumer_key = \"\"\n",
        "consumer_secret = \"\"\n",
        "access_token = \"\"\n",
        "access_token_secret = \"\"\n",
        "\n",
        "#autentikasi API\n",
        "auth = tweepy.OAuthHandler(consumer_key,consumer_secret)\n",
        "auth.set_access_token(access_token, access_token_secret)\n",
        "api = tweepy.API(auth, wait_on_rate_limit=True)"
      ],
      "metadata": {
        "id": "8xqhbPrumdpr"
      },
      "execution_count": null,
      "outputs": []
    },
    {
      "cell_type": "code",
      "source": [
        "from typing import Counter\n",
        "header = ['tanggal','username','Text']\n",
        "with open('/content/drive/MyDrive/kelasluring.csv','w', encoding='UTF8', newline='') as d:\n",
        "    writer = csv.writer(d)\n",
        "    i=1\n",
        "    writer.writerow(header)\n",
        "    searchdata =\"kelas ofline -filter:retweets\"\n",
        "    for tweet in tweepy.Cursor(api.search, q='kelas luring', lang='id', since='2022-01-01', tweet_mode='extended').items():\n",
        "        print(i, tweet.created_at,\"\\n\", tweet.user.screen_name,tweet.full_text, \"\\n\")\n",
        "        i=i+1\n",
        "        writer.writerow([tweet.created_at, tweet.user.screen_name, tweet.full_text])"
      ],
      "metadata": {
        "colab": {
          "base_uri": "https://localhost:8080/"
        },
        "id": "ud6S4wBcmCQy",
        "outputId": "7f35eaf8-e97b-4137-8f80-569e0b8d9b7b"
      },
      "execution_count": null,
      "outputs": [
        {
          "output_type": "stream",
          "name": "stdout",
          "text": [
            "1 2022-01-18 03:16:18 \n",
            " ojanosha hari pertama kuliah luring sebagai angkatan pandemi: keliling2 nyari gedung dan ruang kelas:) \n",
            "\n",
            "2 2022-01-17 19:35:47 \n",
            " WaffleHeeseung Udh luring teman satu\"ny di kelas malah cuti. Fakkkk \n",
            "\n",
            "3 2022-01-17 15:33:59 \n",
            " collegemfs [cm] kalian yang udah pernah hybrid, boleh tau gaa itu sistemnya gimana? misalnya, di 1 pertemuan kelas itu dibagi 2 (ada yang daring &amp; luring) kah? atau yang luring tuh gantian per kelasnya? \n",
            "\n",
            "4 2022-01-17 15:17:54 \n",
            " aylovjk @convomf gue 1 kelas dibagi 3 smua luring tp beda jam \n",
            "\n",
            "5 2022-01-17 15:16:17 \n",
            " bubbleguzm @convomf waktu gue kemaren iya gitu, nder. dlm 1 pertemuan dibagi 2 kelas, jadi yang daring nontonin penjelasan dari yang luring gitu sih \n",
            "\n",
            "6 2022-01-17 15:15:01 \n",
            " convomf 💭 kalian yang anak kuliahan &amp; udah pernah hybrid, boleh tau gaa itu sistemnya gimana? misalnya, di 1 pertemuan kelas itu dibagi 2 (ada yang daring &amp; luring) kah? atau yang luring tuh gantian per kelasnya? \n",
            "\n",
            "7 2022-01-17 12:52:16 \n",
            " Zarfanpr_ kampus siapa lg yg ngasihtau kuliah luring j-4 kelas mulai 👍 hebat \n",
            "\n",
            "8 2022-01-17 12:50:58 \n",
            " bluerebell1on Eh yang besok luring ke itb ganesha meet up dongg WKKWWKWK tpi kelas dri jam 7-13 D:\n",
            "#gws \n",
            "\n",
            "9 2022-01-17 12:48:16 \n",
            " bluerebell1on Kalo kelas jam 7 luring klean bangun jamber si gais \n",
            "\n",
            "10 2022-01-17 10:40:47 \n",
            " arbyanaa @collegemenfess aku luring terakhir kemaren pp itu jarak ke kampus ±42 km berangkat 2 jam sebelum kelas atau kalo mager 1,5 jam sebelum kelas:') \n",
            "\n",
            "11 2022-01-17 09:39:30 \n",
            " abgshine kuliah luring di kelas seru bet, dosen juga lebih antusias pas jelasin dan lebih enak dalam berinteraksi dengan mahasiswa \n",
            "\n",
            "12 2022-01-17 08:10:39 \n",
            " asaxxh1 @collegemenfess praktek nya luring, teori daring. 1 kelas dibagi jd 4 kelompok, tiap 3 minggu gantian yg luring \n",
            "\n",
            "13 2022-01-17 07:42:44 \n",
            " dnll66 Ty kenapa u ngelive sekarang sih😭 aku lagi kelas luring😭😭😭 \n",
            "\n",
            "14 2022-01-17 06:15:44 \n",
            " IrawanNabiel matkul luring cuman di saat tertentu doang, kirain bakal tiap pertemuan kelas bakal luring.\n",
            "\n",
            "jahhh \n",
            "\n",
            "15 2022-01-17 03:02:59 \n",
            " beritaKBR Pemerintah wajibkan Sekolah Tatap Muka 100 persen di wilayah PPKM level 1-3.\n",
            "\n",
            "Kelas luring dinilai lebih efektif cegah hilangnya pengetahuan.\n",
            "\n",
            "Lantas bgmn sekolah menggelar PTM secara penuh di tengah merebaknya varian Omicron? \n",
            "https://t.co/sGq4rObElq\n",
            "\n",
            "#WrapUp #PodcastIndonesia https://t.co/FNHuf6jCIX \n",
            "\n",
            "16 2022-01-17 01:37:18 \n",
            " Kanimdepok Senin (17/01)\n",
            "Kantor Imigrasi Kelas II Non TPI Depok melaksanakan kegiatan apel pagi pegawai.\n",
            "Kegiatan apel pagi diikuti oleh seluruh Pejabat Struktural, Pegawai, dan PPNPN baik secara luring maupun daring.\n",
            "\n",
            "#KantorImigrasiDepok #KID #TulusMelayaniTerusBerinovasi https://t.co/cXcek2briG \n",
            "\n",
            "17 2022-01-16 19:49:30 \n",
            " inqilabeestudy RT @collegemenfess: [Cm] selama kelas luring ini aku merasa pemahamanku kurang maksimal, ilmu yg kudapet krg terserap, dan itu jg ngaruh ke… \n",
            "\n",
            "18 2022-01-16 10:08:12 \n",
            " imfahsal Kelas luring selasa siang, balik nangor nya selasa pagi aja kali ya \n",
            "\n",
            "19 2022-01-16 03:48:04 \n",
            " collegemenfess [Cm] selama kelas luring ini aku merasa pemahamanku kurang maksimal, ilmu yg kudapet krg terserap, dan itu jg ngaruh ke n1laiku. Mgkn ada yg mau ngasih tips? Makasih sebelumnya 😊🙏 https://t.co/5g3U1eaIYK \n",
            "\n",
            "20 2022-01-15 19:10:09 \n",
            " SyamilBasayev20 Hilang luring kelas 11 saat masuk kelas 12 seperti beda ya semuanya \n",
            "\n",
            "21 2022-01-14 14:21:53 \n",
            " candyyzaa Tanda\" di mulai perkuliahan ya muncul grup kelas dan aku masih meliburkan diri dari perkuliahan luring hehehehe https://t.co/XybRWQcmdo \n",
            "\n",
            "22 2022-01-14 11:47:26 \n",
            " alphakthv demi apasi ngebayangin nanti presentasi bener2 di depan kelas, yg biasanya tinggal baca ppt nah ini masa mahasiswa presentasi baca ppt kan ga lucu ya 🙂 lebay sih tp demi apapun gua takut luring.. \n",
            "\n",
            "23 2022-01-14 10:45:12 \n",
            " collegemenfess dan hasilnya negatif, mending aku nunda pergi ngekosnya apa gimana ya? 1 sisi aku ada kelas yg luring bentar lagi \n",
            "\n",
            "24 2022-01-14 10:05:14 \n",
            " Kanimdepok Jum'at (14/01)\n",
            "Kantor Imigrasi Kelas II Non TPI Depok melaksanakan kegiatan apel sore pegawai.\n",
            "Kegiatan sore pagi diikuti secara langsung oleh seluruh Pejabat Struktural, Pegawai, dan PPNPN secara luring maupun daring.\n",
            "\n",
            "#KantorImigrasiDepok #KID #TulusMelayaniTerusBerinovasi https://t.co/nD9PdIFGJu \n",
            "\n",
            "25 2022-01-14 06:22:51 \n",
            " kimadorable_ @vvantaezaa Tapi bukannya kalo misal emg max fakultasmu 50%, nanti giliran yaa? Misal nnt kelas a luring, b daring. Trs mingdep gantian, ngga gitu emangnya? Soalnya di aku gitu, tapi kalo organisasi di aku emg keknya mau offline \n",
            "\n",
            "26 2022-01-14 06:14:48 \n",
            " SS_UB Wah, perkuliahan tatap muka sudah akan dimulai! Berikut adalah beberapa barang bawaan atau starter pack teman-teman statistika ketika sedang menjalani perkuliahan luring di kampus. Ada lagi nggak barang yang harus banget anak statistika bawa pas lagi kelas, comment yuk! https://t.co/FLsDvcaGJB \n",
            "\n",
            "27 2022-01-13 11:54:10 \n",
            " ataulalaa RT @RutanWonosobo: Rumah Tahanan Negara (Rutan) Kelas IIB Wonosobo ikuti  Workshop Tata Naskah Dinas Secara luring yang diselenggarakan ole… \n",
            "\n",
            "28 2022-01-13 10:17:27 \n",
            " RutanWonosobo Rumah Tahanan Negara (Rutan) Kelas IIB Wonosobo ikuti  Workshop Tata Naskah Dinas Secara luring yang diselenggarakan oleh Kantor Imigrasi Kelas II Non TPI Wonosobo, Kamis (13/1). https://t.co/O7zAyltt9v \n",
            "\n",
            "29 2022-01-13 07:13:59 \n",
            " evmark_ @toolshme Ya w lagi kelas luring \n",
            "\n",
            "30 2022-01-13 04:03:01 \n",
            " bapasjakbar_dki Sidang TPP Ketiga Tahun 2022, Bapas Kelas I Jakarta Barat Kanwil Kemenkumham DKI Jakarta Sidangkan Tiga Puluh Litmas secara Daring dan Luring\n",
            "\n",
            "Selengkapnya di https://t.co/d2cgRMy36p https://t.co/QBrp4HpcdN \n",
            "\n",
            "31 2022-01-13 01:47:25 \n",
            " jeanlovingnoren @litleloo Tapi kelas 10 11 daring luring dari luring gitu sama genap ganjil sama gedung kelasnya yang dipake 1 aja \n",
            "\n",
            "32 2022-01-12 17:06:03 \n",
            " febbykun @catholic238 Jatim mau 100% luring sih untuk KBM.\n",
            "Sepupuku yg SD masuknya udah mulai luring dikit2 meskipun 1 kelas isinya 50% \n",
            "\n",
            "33 2022-01-12 14:28:37 \n",
            " wy__zx @collegemenfess 1tb fix hybrid ada yg 100% luring buat studio, praktikum, trs apalagi tu lupa. klo kelas dicampur kdg daring kdg luring \n",
            "\n",
            "34 2022-01-12 13:17:32 \n",
            " pengabdi_santan Krs baru di sahin buat semester 4 ini, yuyurly ngeliat matkul dan dosennya agak ngeri ye, mana selalu dpt kelas pagi mulu lagi😭 dann... Bakal luring kekk antara excited, deg2an campur aduk dah 😤 \n",
            "\n",
            "35 2022-01-12 09:19:21 \n",
            " sanmia2021 Saya menjual Az - Zahra MA Daring ... seharga Rp83.000. Dapatkan di Shopee sekarang! https://t.co/Jw5FI5HOhk #ShopeeID https://t.co/eEXv252MqO \n",
            "\n",
            "36 2022-01-11 16:47:41 \n",
            " Hiicadeee Kebanyakan tidur siang jadi ga ngantuk. Pdhl ada kelas luring pagi, kesel. \n",
            "\n",
            "37 2022-01-11 16:31:58 \n",
            " chowux @schfess sekolahku kelas 12 100%, kelas 11 gantian sama kelas 10 tapi ttp 100%. jadi kalo kelas 11 daring, kelas 10 luring. vice versa. \n",
            "\n",
            "38 2022-01-11 15:54:23 \n",
            " tdcwonwoo bener2 itu doang kelas yg luring \n",
            "\n",
            "39 2022-01-11 14:19:38 \n",
            " Nannraa Ternyata setelah ngajar daring setahun, trus ngajar luring siswa full rasanya engap banget apalagi kelas yang usreq mulu kerjaannya, tapi nggak pa² tetap disyukuri sudah luring kembali 🙂 \n",
            "\n",
            "40 2022-01-11 12:33:00 \n",
            " NgertiHukumID PKPA ini akan diselenggarakan pada:\n",
            "5-26 Maret 2022\n",
            "📋 Hanya setiap Sabtu dan Minggu (7 hari pertemuan)\n",
            "⏰ 09.00 - 18.30 WIB\n",
            "📌 Kelas daring via zoom\n",
            "📌 Kelas luring di ICJR Learning Hub Office \n",
            "\n",
            "41 2022-01-11 12:32:42 \n",
            " NgertiHukumID Kabar baik untuk kamu-kamu yang sudah ingin ikut kelas tatap muka, khususnya untuk Pendidikan Khusus Profesi Advokat!\n",
            "Dibuka pendaftaran PKPA Hybrid, dan kamu bisa memilih untuk hadir secara daring atau luring. https://t.co/P6A6Whb6UQ \n",
            "\n",
            "42 2022-01-11 04:01:30 \n",
            " himaforka_uajy RT @kuliah_ftiuajy: #INFO_PRODI_INF_2021_2 : Rencana Pembukaan Kelas Luring dan Daring Prodi Informatika pada Semester Genap TA 2021/2022.… \n",
            "\n",
            "43 2022-01-11 03:26:15 \n",
            " kuliah_ftiuajy #INFO_PRODI_INF_2021_2 : Rencana Pembukaan Kelas Luring dan Daring Prodi Informatika pada Semester Genap TA 2021/2022. Mohon Diperhatikan https://t.co/D76WBUdGQD \n",
            "\n",
            "44 2022-01-11 03:05:00 \n",
            " awieww alah siah dude kumaha ieu kelas luring urg:( https://t.co/O2f9O0e1np \n",
            "\n",
            "45 2022-01-10 13:36:20 \n",
            " AndikaJya244 ... daring, akhire ngga tek iso nemu knco akrab. ---Sampek seiki kelas 11 smster 2, wis luring 100% ae aku panggah ngrso nda duwe knco plek.\n",
            "Tapi Alhamdulillah, akhir lebaran 2021, aku nemu seseorang..  aku seneng karo orang kuwi, aku nyaman. Aku ngrso duwe batur, duwe knco ... \n",
            "\n",
            "46 2022-01-10 02:31:32 \n",
            " Kanimdepok Senin (10/01)\n",
            "Kantor Imigrasi Kelas II Non TPI Depok melaksanakan kegiatan apel pagi pegawai.\n",
            "Kegiatan apel pagi diikuti oleh seluruh Pejabat Struktural, Pegawai, dan PPNPN baik secara luring maupun daring.\n",
            "\n",
            "#KantorImigrasiDepok #KID #TulusMelayaniTerusBerinovasi https://t.co/E4MSaDpUL5 \n",
            "\n",
            "47 2022-01-09 16:44:41 \n",
            " ginaseptiani958 @collegemenfess Ada, dapet dosen yg matkul nya luring. Srng bgt ga masuk, pernah udah dijalan mau ke kampus tiba² baru ngasih tau kalo kelas nya diganti. Tp jarang bgt diganti sampe ngutang 3 pertemuan tp untungnya kalo soal nilai baik bgt, mana kemarin uasnya open book padahal itu soal gampang² \n",
            "\n"
          ]
        }
      ]
    },
    {
      "cell_type": "code",
      "source": [
        ""
      ],
      "metadata": {
        "id": "BJnCmy6csfSI"
      },
      "execution_count": null,
      "outputs": []
    }
  ]
}